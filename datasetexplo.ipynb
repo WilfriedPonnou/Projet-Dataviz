{
 "cells": [
  {
   "cell_type": "markdown",
   "metadata": {},
   "source": [
    "Data loading"
   ]
  },
  {
   "cell_type": "code",
   "execution_count": 1,
   "metadata": {},
   "outputs": [],
   "source": [
    "import pandas as pd\n",
    "import matplotlib.pyplot as plt\n",
    "import numpy as np\n",
    "import seaborn as sns\n",
    "import sweetviz as sv\n",
    "\n"
   ]
  },
  {
   "cell_type": "code",
   "execution_count": 3,
   "metadata": {},
   "outputs": [
    {
     "name": "stderr",
     "output_type": "stream",
     "text": [
      "D:\\IDES\\anaconda3\\lib\\site-packages\\IPython\\core\\interactiveshell.py:3165: DtypeWarning: Columns (8,10,12,14,16,17,18,20,22,35,36) have mixed types.Specify dtype option on import or set low_memory=False.\n",
      "  has_raised = await self.run_ast_nodes(code_ast.body, cell_name,\n"
     ]
    },
    {
     "data": {
      "text/html": [
       "<div>\n",
       "<style scoped>\n",
       "    .dataframe tbody tr th:only-of-type {\n",
       "        vertical-align: middle;\n",
       "    }\n",
       "\n",
       "    .dataframe tbody tr th {\n",
       "        vertical-align: top;\n",
       "    }\n",
       "\n",
       "    .dataframe thead th {\n",
       "        text-align: right;\n",
       "    }\n",
       "</style>\n",
       "<table border=\"1\" class=\"dataframe\">\n",
       "  <thead>\n",
       "    <tr style=\"text-align: right;\">\n",
       "      <th></th>\n",
       "      <th>id_mutation</th>\n",
       "      <th>date_mutation</th>\n",
       "      <th>numero_disposition</th>\n",
       "      <th>nature_mutation</th>\n",
       "      <th>valeur_fonciere</th>\n",
       "      <th>adresse_numero</th>\n",
       "      <th>adresse_suffixe</th>\n",
       "      <th>adresse_nom_voie</th>\n",
       "      <th>adresse_code_voie</th>\n",
       "      <th>code_postal</th>\n",
       "      <th>...</th>\n",
       "      <th>type_local</th>\n",
       "      <th>surface_reelle_bati</th>\n",
       "      <th>nombre_pieces_principales</th>\n",
       "      <th>code_nature_culture</th>\n",
       "      <th>nature_culture</th>\n",
       "      <th>code_nature_culture_speciale</th>\n",
       "      <th>nature_culture_speciale</th>\n",
       "      <th>surface_terrain</th>\n",
       "      <th>longitude</th>\n",
       "      <th>latitude</th>\n",
       "    </tr>\n",
       "  </thead>\n",
       "  <tbody>\n",
       "  </tbody>\n",
       "</table>\n",
       "<p>0 rows × 40 columns</p>\n",
       "</div>"
      ],
      "text/plain": [
       "Empty DataFrame\n",
       "Columns: [id_mutation, date_mutation, numero_disposition, nature_mutation, valeur_fonciere, adresse_numero, adresse_suffixe, adresse_nom_voie, adresse_code_voie, code_postal, code_commune, nom_commune, code_departement, ancien_code_commune, ancien_nom_commune, id_parcelle, ancien_id_parcelle, numero_volume, lot1_numero, lot1_surface_carrez, lot2_numero, lot2_surface_carrez, lot3_numero, lot3_surface_carrez, lot4_numero, lot4_surface_carrez, lot5_numero, lot5_surface_carrez, nombre_lots, code_type_local, type_local, surface_reelle_bati, nombre_pieces_principales, code_nature_culture, nature_culture, code_nature_culture_speciale, nature_culture_speciale, surface_terrain, longitude, latitude]\n",
       "Index: []\n",
       "\n",
       "[0 rows x 40 columns]"
      ]
     },
     "execution_count": 3,
     "metadata": {},
     "output_type": "execute_result"
    }
   ],
   "source": [
    "df=pd.read_csv(\"./full_2020.csv\")\n",
    "#df.describe()\n",
    "mask= (df['nom_commune']=='Ceyzériat') & (df['type_local']=='Appartement')\n",
    "df[mask]\n",
    "\n",
    "#df"
   ]
  },
  {
   "cell_type": "code",
   "execution_count": 5,
   "metadata": {},
   "outputs": [
    {
     "data": {
      "text/plain": [
       "id_mutation                           0\n",
       "date_mutation                         0\n",
       "numero_disposition                    0\n",
       "nature_mutation                       0\n",
       "valeur_fonciere                   31752\n",
       "adresse_numero                   990345\n",
       "adresse_suffixe                 2352374\n",
       "adresse_nom_voie                  31123\n",
       "adresse_code_voie                 30948\n",
       "code_postal                       30992\n",
       "code_commune                          0\n",
       "nom_commune                           0\n",
       "code_departement                      0\n",
       "ancien_code_commune             2459559\n",
       "ancien_nom_commune              2459559\n",
       "id_parcelle                           0\n",
       "ancien_id_parcelle              2459559\n",
       "numero_volume                   2452794\n",
       "lot1_numero                     1702571\n",
       "lot1_surface_carrez             2250280\n",
       "lot2_numero                     2303817\n",
       "lot2_surface_carrez             2408519\n",
       "lot3_numero                     2434251\n",
       "lot3_surface_carrez             2454703\n",
       "lot4_numero                     2450649\n",
       "lot4_surface_carrez             2458303\n",
       "lot5_numero                     2455417\n",
       "lot5_surface_carrez             2458997\n",
       "nombre_lots                           0\n",
       "code_type_local                 1143726\n",
       "type_local                      1143726\n",
       "surface_reelle_bati             1447059\n",
       "nombre_pieces_principales       1145290\n",
       "code_nature_culture              767675\n",
       "nature_culture                   767675\n",
       "code_nature_culture_speciale    2352011\n",
       "nature_culture_speciale         2352011\n",
       "surface_terrain                  767734\n",
       "longitude                       2459560\n",
       "latitude                        2459560\n",
       "dtype: int64"
      ]
     },
     "execution_count": 5,
     "metadata": {},
     "output_type": "execute_result"
    }
   ],
   "source": [
    "#df.dropna(subset = [\"code_postal\"], inplace=True)\n",
    "#df['code_postal']=df['code_postal'].astype(int,errors='ignore')\n",
    "#print(df['code_postal'])\n",
    "\n",
    "df.isnull().sum()"
   ]
  },
  {
   "cell_type": "code",
   "execution_count": 3,
   "metadata": {},
   "outputs": [
    {
     "name": "stdout",
     "output_type": "stream",
     "text": [
      "2459560\n"
     ]
    }
   ],
   "source": [
    "df['date_mutation']=pd.to_datetime(df['date_mutation'])\n",
    "df=df.drop(['adresse_suffixe','ancien_code_commune','ancien_nom_commune','ancien_id_parcelle','numero_volume','lot1_numero','lot1_surface_carrez'\n",
    ",'lot2_numero','lot2_surface_carrez','lot3_numero','lot3_surface_carrez','lot4_numero','lot4_surface_carrez','lot5_numero','lot5_surface_carrez',\n",
    "'code_type_local','code_nature_culture','code_nature_culture_speciale'],axis=1)\n",
    "df['adresse_code_voie']=str(df['adresse_code_voie'])\n",
    "df['code_commune']=df['code_commune'].astype(str)\n",
    "df['nom_commune']=df['nom_commune'].astype(str)\n",
    "df['code_departement']=df['code_departement'].astype(str)\n",
    "df['id_parcelle']=df['id_parcelle'].astype(str)\n",
    "df['nature_culture']=df['nature_culture'].astype(str)\n",
    "df['nature_culture_speciale']=df['nature_culture_speciale'].astype(str)\n",
    "index = df.index\n",
    "number_of_rows = len(index)\n",
    "print(number_of_rows)\n",
    "\n",
    "#my_report= sv.analyze(df)\n"
   ]
  },
  {
   "cell_type": "code",
   "execution_count": 11,
   "metadata": {},
   "outputs": [
    {
     "data": {
      "text/plain": [
       "0                   terres\n",
       "1          taillis simples\n",
       "2                   terres\n",
       "3                   terres\n",
       "4                   terres\n",
       "                ...       \n",
       "2459555               sols\n",
       "2459556               sols\n",
       "2459557               sols\n",
       "2459558               sols\n",
       "2459559                nan\n",
       "Name: nature_culture, Length: 2459560, dtype: object"
      ]
     },
     "execution_count": 11,
     "metadata": {},
     "output_type": "execute_result"
    }
   ],
   "source": [
    "#my_report.show_html()\n",
    "#my_report.show_notebook()\n",
    "df['nature_culture']\n"
   ]
  },
  {
   "cell_type": "code",
   "execution_count": 14,
   "metadata": {},
   "outputs": [
    {
     "name": "stdout",
     "output_type": "stream",
     "text": [
      "Vente                                 2245097\n",
      "Vente en l'état futur d'achèvement     181174\n",
      "Echange                                 23125\n",
      "Vente terrain à bâtir                    6814\n",
      "Adjudication                             2744\n",
      "Expropriation                             606\n",
      "Name: nature_mutation, dtype: int64\n",
      "<class 'matplotlib.axes._subplots.AxesSubplot'>\n"
     ]
    },
    {
     "data": {
      "text/plain": [
       "Text(0, 0.5, 'Percentage')"
      ]
     },
     "execution_count": 14,
     "metadata": {},
     "output_type": "execute_result"
    },
    {
     "data": {
      "image/png": "[encoded data removed]",
      "text/plain": [
       "<Figure size 432x288 with 1 Axes>"
      ]
     },
     "metadata": {
      "needs_background": "light"
     },
     "output_type": "display_data"
    }
   ],
   "source": [
    "\n",
    "df_sorted=(df['nature_mutation'].value_counts()).plot(kind='bar')\n",
    "print(df['nature_mutation'].value_counts())\n",
    "print(type(df_sorted))\n",
    "plt.ylabel('Percentage')\n"
   ]
  },
  {
   "cell_type": "code",
   "execution_count": 9,
   "metadata": {},
   "outputs": [
    {
     "data": {
      "text/plain": [
       "Text(0, 0.5, 'Percentage')"
      ]
     },
     "execution_count": 9,
     "metadata": {},
     "output_type": "execute_result"
    },
    {
     "data": {
      "image/png": "[encoded data removed]",
      "text/plain": [
       "<Figure size 432x288 with 1 Axes>"
      ]
     },
     "metadata": {},
     "output_type": "display_data"
    }
   ],
   "source": [
    "df_sorted=(df['type_local'].value_counts(normalize=True).mul(100).round(1)).plot(kind='pie')\n",
    "plt.ylabel('Percentage')"
   ]
  },
  {
   "cell_type": "code",
   "execution_count": 10,
   "metadata": {},
   "outputs": [
    {
     "data": {
      "text/plain": [
       "Text(0, 0.5, 'Percentage')"
      ]
     },
     "execution_count": 10,
     "metadata": {},
     "output_type": "execute_result"
    },
    {
     "data": {
      "image/png": "[encoded data removed]",
      "text/plain": [
       "<Figure size 432x288 with 1 Axes>"
      ]
     },
     "metadata": {
      "needs_background": "light"
     },
     "output_type": "display_data"
    }
   ],
   "source": [
    "df_sorted=(df['nature_culture'].value_counts(normalize=True).mul(100).round(1)).plot(kind='bar')\n",
    "plt.ylabel('Percentage')"
   ]
  },
  {
   "cell_type": "code",
   "execution_count": null,
   "metadata": {},
   "outputs": [],
   "source": []
  }
 ],
 "metadata": {
  "interpreter": {
   "hash": "68ccbfb0355b96492b4e04d957b3105f3bdbfd00aa113581d1e68161de594a5e"
  },
  "kernelspec": {
   "display_name": "Python 3.8.8 64-bit ('base': conda)",
   "name": "python3"
  },
  "language_info": {
   "codemirror_mode": {
    "name": "ipython",
    "version": 3
   },
   "file_extension": ".py",
   "mimetype": "text/x-python",
   "name": "python",
   "nbconvert_exporter": "python",
   "pygments_lexer": "ipython3",
   "version": "3.8.8"
  },
  "orig_nbformat": 4
 },
 "nbformat": 4,
 "nbformat_minor": 2
}
